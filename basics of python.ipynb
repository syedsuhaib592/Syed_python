execution :
    ctrl + enter
    shift + enter
    add line up : Esc + A
    add line bottom : Esc + B
#Python Basics
##Data Types
1. INT (integer): In python anything without decimals is an integer.
        Ex: INT 10,20,30

2. Float: In python anything with decimals is a Float.
        Ex: 2.88,23.889,99.9999

3. str (Srting): String in python is denoted with either single quotes or double quotes or triple quotes as well.
        EX: 'Hi', "Hello", """welcome to python"""

4. Lsit : List is anything that is present in the scqaure brackets [] or collection of values. 
        Ex: list[50,80,90,38]
          we can store anything in the list like integer, float and string.
        Ex: list [10,20,30,'python','Java','sql']
          We can store another list in to the list and its valid in python.
        Ex: list [10,20,'hello',[40,50,60]]

5. tuple : tuple is somthing which looks similar to list. where we can store collection of values
            For list we will use [] brackets and for tuple we will use () brackets.
        Ex : (50,80,90,38)
             (10,20,30,'python','Java','sql')

6. dict : we will represent the dictionary in {} brackets.
            we will be storing the data in dict in terms of key,value pair
        Ex: {"email":"syed@gmail.com", "contact":"88888888899","age":25}
          
7. set  : {10,20,30,40,50} a set cannot have a duplicate value 
        EX: (10,10,20,30,50,20) - worng
            (10,20,30,40,50,60) - Right
            
8. bool : Bollean value will be user incase of True or False 

9. None : there is nothing to be specified then we will use None.
##explanations
##
variable: anything which holds date.
Ex: Num1: 100
here Num1 is variable and 100 is data

Everythin in python is object

PEP 8 : Python Extension Proposal
   1. its a guidlines that how you python code should look
   2. Use logical names when derriving a variable
    balance=500
   3. And while writing long names as variable user underscore
    first_name="syed"
    4. we can't use number first to define a variable 
    9=syed  ##worng 
    5. we can use letters first and then we can use number when defining variables
    num88=100  ## correct
      num_one = 100 ## correct

##if I need to get the data from a file which is saved in the internal then i need to use below keyword inorder to access the data of the file
FILE_LOCATION="Path of the file"
FILE_LOACTION = "C:\Users\Syed.Suhaib\Desktop\My Bin\TXT CHECK"
Num1 = 100
Num2 = 200
Num3 = Num1 + Num2
print(Num3);
FIRST_NAME = "syed"
##Always give meaningful variables name 

1. use underscore for file_name
2. for variable name it should start with lowercase letters
3. for the CONSTANTS we need to use all CAPS alphabets
4. digits are allowed but not at the starting , only special char are allowed
##to know what is the datatype for the below 
## type () function can be user for debugging the code when checking and writing the code
alpha=("abc")
print(type(alpha))  ##Ans: str(string)

num=[10,20,30]
print(type(num))

d={1:2,3:4,5:6}
print(type(d))

##Mutable vs immutable 
Memory Loaction :
    1. Immutable : at same memory lopcation I can not change the value
    2. Mutable : I can change the value at same memory location
num1 = 100
print(num1)

num1 = 200
print(num1)
num1 = 100
print(num1,id(num1))

num1 = 200
print(num1,id(num1))
S="PYTHON"
print(S,id(S))  ## output :: PYTHON 2568908101632

S = "SQL"           ##output shows the data has not been inserted at same memory location
print(id(l))
print(S,id(S)) 
##Mutable
l=[10,20,30,40] ##output shows the data has been inserted at same memory location
print(id(l))
l.append(50)
print(l)
print(id(l))
###Mutable :: Python will provide a way to ADD,UPDATE,DELETE operations on same memory location
    EX: int,float,str,tuple

Immutable :: Python will not provide a way to ADD,UPDATE,DELETE operations on same memory location
    Ex: list, dict,set

num1 = 100
num2 = 100
print(id(num1),id(num2))
##output shows same memory location because python mechanism allows only numbers form 0-256 for same memory location
##If we change the number beyond 256 the memory location will be changed

num1 = 257
num2 = 257
print(num1,id(num1),num2,id(num2))
Operators :
    1. Arthmetic Operators :
        + => Addition
        - => Substraction
        * => Multiplication
        / => true division (because it gives true value with decimals)
        // => floor division (it gives values without decimals)
        % => Modules (gives remainder)
        ** => powers
    2. Comparision Operators : It always gives us the answer is True or False
        == , < , > , <= , >= , !=
    3. Membership Operators : in not in (This is only used in Iterable and cant be used in not Iterable) 
        incase of dictionary in/not in will only check with keys , will not check with the values
    4.Identity Operator : is is not
    5.Assignment Operator : = , += , -= , *=  , /=
    6.Logical Operator : and or not
        
print(10 / 3) ## Normal division
print(10 // 3) ##Floral division which returns the output without the decimal values
print(10 % 3)   
print(10 * 3)   ##Multiplication
print(10 + 3)  ##Addition
print(10 - 3) ##subtraction
print(10 ** 3) ##power
s1 = "Python"
s2 = "python"
print(s1 == s2)

s1 = 10
s2 = 5
print(s1 > s2)
print(s1 < s2)
print(s1 >= s2)
print(s1 <= s2)
l = [100,200,300,400,500]
print(4000 in l)


a = "python"
print("n" in a)


b = "Java"
print("a" not in b)
print(5 in 500)  ##it throw error bcoz 500 is not a variable
not iterable :: int,float
Iterable :: str,tuple,dict
l=[100,200,300,400,500] 
print(1000 not in l)

l=[100,200,300,400,500] 
print(1000  in l)
##example : dict
d={1:100,2:200,3:300}
print(3 in d)       ##in and not in will not work on int,float 
                    ## in case of dict in/not will check on the keys not values
