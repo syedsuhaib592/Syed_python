{
 "cells": [
  {
   "cell_type": "markdown",
   "metadata": {},
   "source": [
    "#Python Basics\n",
    "##Data Types"
   ]
  },
  {
   "cell_type": "markdown",
   "metadata": {},
   "source": [
    "1. INT (integer): In python anything without decimals is an integer.\n",
    "        Ex: INT 10,20,30\n",
    "\n",
    "2. Float: In python anything with decimals is a Float.\n",
    "        Ex: 2.88,23.889,99.9999\n",
    "\n",
    "3. str (Srting): String in python is denoted with either single quotes or double quotes or triple quotes as well.\n",
    "        EX: 'Hi', \"Hello\", \"\"\"welcome to python\"\"\"\n",
    "\n",
    "4. Lsit : List is anything that is present in the scqaure brackets [] or collection of values. \n",
    "        Ex: list[50,80,90,38]\n",
    "          we can store anything in the list like integer, float and string.\n",
    "        Ex: list [10,20,30,'python','Java','sql']\n",
    "          We can store another list in to the list and its valid in python.\n",
    "        Ex: list [10,20,'hello',[40,50,60]]\n",
    "\n",
    "5. tuple : tuple is somthing which looks similar to list. where we can store collection of values\n",
    "            For list we will use [] brackets and for tuple we will use () brackets.\n",
    "        Ex : (50,80,90,38)\n",
    "             (10,20,30,'python','Java','sql')\n",
    "\n",
    "6. dict : we will represent the dictionary in {} brackets.\n",
    "            we will be storing the data in dict in terms of key,value pair\n",
    "        Ex: {\"email\":\"syed@gmail.com\", \"contact\":\"88888888899\",\"age\":25}\n",
    "          \n",
    "7. set  : {10,20,30,40,50}\n",
    "\n",
    "8. bool : Bollean value will be user incase of True or False \n",
    "\n",
    "9. None : there is nothing to be specified then we will use None."
   ]
  },
  {
   "cell_type": "markdown",
   "metadata": {},
   "source": [
    "##explanations\n",
    "##"
   ]
  },
  {
   "cell_type": "markdown",
   "metadata": {},
   "source": [
    "variable: anything which holds date.\n",
    "Ex: Num1: 100\n",
    "here Num1 is variable and 100 is data\n",
    "\n",
    "Everythin in python is object\n",
    "\n",
    "PEP 8 : Python Extension Proposal\n",
    "   1. its a guidlines that how you python code should look\n",
    "   2. Use logical names when derriving a variable\n",
    "    balance=500\n",
    "   3. And while writing long names as variable user underscore\n",
    "    first_name=\"syed\"\n",
    "    4. we can't use number first to define a variable \n",
    "    9=syed  ##worng \n",
    "    5. we can use letters first and then we can use number when defining variables\n",
    "    num88=100  ## correct\n",
    "      num_one = 100 ## correct\n",
    "\n",
    "##if I need to get the data from a file which is saved in the internal then i need to use below keyword inorder to access the data of the file\n",
    "FILE_LOCATION=\"Path of the file\"\n",
    "FILE_LOACTION = \"C:\\Users\\Syed.Suhaib\\Desktop\\My Bin\\TXT CHECK\""
   ]
  },
  {
   "cell_type": "code",
   "execution_count": 11,
   "metadata": {},
   "outputs": [
    {
     "name": "stdout",
     "output_type": "stream",
     "text": [
      "300\n"
     ]
    }
   ],
   "source": [
    "Num1 = 100\n",
    "Num2 = 200\n",
    "Num3 = Num1 + Num2\n",
    "print(Num3);"
   ]
  },
  {
   "cell_type": "code",
   "execution_count": 12,
   "metadata": {},
   "outputs": [],
   "source": [
    "FIRST_NAME = \"syed\""
   ]
  },
  {
   "cell_type": "markdown",
   "metadata": {},
   "source": [
    "##Always give meaningful variables name \n",
    "\n",
    "1. use underscore for file_name\n",
    "2. for variable name it should start with lowercase letters\n",
    "3. for the CONSTANTS we need to use all CAPS alphabets\n",
    "4. digits are allowed but not at the starting , only special char are allowed"
   ]
  },
  {
   "cell_type": "code",
   "execution_count": 18,
   "metadata": {},
   "outputs": [
    {
     "name": "stdout",
     "output_type": "stream",
     "text": [
      "<class 'str'>\n",
      "<class 'list'>\n",
      "<class 'dict'>\n"
     ]
    }
   ],
   "source": [
    "##to know what is the datatype for the below \n",
    "## type () function can be user for debugging the code when checking and writing the code\n",
    "alpha=(\"abc\")\n",
    "print(type(alpha))  ##Ans: str(string)\n",
    "\n",
    "num=[10,20,30]\n",
    "print(type(num))\n",
    "\n",
    "d={1:2,3:4,5:6}\n",
    "print(type(d))\n"
   ]
  },
  {
   "cell_type": "markdown",
   "metadata": {},
   "source": [
    "##Mutable vs immutable \n"
   ]
  },
  {
   "cell_type": "code",
   "execution_count": null,
   "metadata": {},
   "outputs": [],
   "source": []
  },
  {
   "cell_type": "code",
   "execution_count": null,
   "metadata": {},
   "outputs": [],
   "source": []
  }
 ],
 "metadata": {
  "kernelspec": {
   "display_name": "Python 3",
   "language": "python",
   "name": "python3"
  },
  "language_info": {
   "codemirror_mode": {
    "name": "ipython",
    "version": 3
   },
   "file_extension": ".py",
   "mimetype": "text/x-python",
   "name": "python",
   "nbconvert_exporter": "python",
   "pygments_lexer": "ipython3",
   "version": "3.12.3"
  }
 },
 "nbformat": 4,
 "nbformat_minor": 2
}
